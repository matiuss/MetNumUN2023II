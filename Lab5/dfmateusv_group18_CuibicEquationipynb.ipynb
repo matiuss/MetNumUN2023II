{
  "nbformat": 4,
  "nbformat_minor": 0,
  "metadata": {
    "colab": {
      "provenance": []
    },
    "kernelspec": {
      "name": "python3",
      "display_name": "Python 3"
    },
    "language_info": {
      "name": "python"
    }
  },
  "cells": [
    {
      "cell_type": "markdown",
      "source": [
        "**Integrantes: digito**\n",
        "\n",
        "\n",
        "*   Mateo Herrera Muñoz: 3\n",
        "*   Sergio Ivan Motta Doncel: 0\n",
        "*   Mateus VegaDaniel Fernando: 5\n",
        "\n",
        "\n",
        "\n",
        "\n",
        "Modify [week_1_quadratic_Po_Shen_Loh.ipyn](https://colab.research.google.com/drive/15vXGB18_np6o0Rw8ZV4o08RTdCdDIdT0?usp=sharing) for\n",
        "\n",
        "$$ ax^3+bx^2+cx +d = 0$$\n",
        "\n",
        "using Cubic equation – General cubic formula- [wikipedia](https://en.wikipedia.org/wiki/Cubic_equation)\n",
        "\n",
        "Asuume $a=1$ then work wequations are of the form\n",
        "\n",
        "$$ x^3+bx^2+cx +d = 0$$\n",
        "\n",
        "Including plots, expalnations, solution code and test cases\n",
        "\n"
      ],
      "metadata": {
        "id": "q5PfhUy3iXZi"
      }
    },
    {
      "cell_type": "code",
      "source": [
        "import numpy as np\n",
        "import matplotlib.pyplot as plt\n",
        "\n",
        "def cubic(b,c,d,x):\n",
        "    \"\"\"Calulate the value of the  qubic equation, v = x**3 + bx**2 + c*x +d\n",
        "\n",
        "    Parameters\n",
        "    ----------\n",
        "    b, c,d  : float\n",
        "       Coefficients\n",
        "\n",
        "    Returns\n",
        "    -------\n",
        "    v : float \"\"\"\n",
        "\n",
        "    # ... enter your code here ...\n",
        "\n",
        "    v = x**3 + b * x**2 + c * x + d\n",
        "\n",
        "    return v\n",
        "\n",
        "x = np.arange(-3.5, 3.5, 0.001)\n",
        "z = np.zeros(len(x))\n",
        "y1 = cubic(0,0,-1,x)\n",
        "y2 = cubic(-3,3,-1,x)\n",
        "y3 = cubic(-1,1,-1,x)\n",
        "y4 = cubic(3,0,-4,x)\n",
        "plt.plot(x,z, color = \"black\")#line y=0\n",
        "plt.plot(x,y1, color = \"red\")#(x^3)-1\n",
        "plt.plot(x,y2, color = \"blue\")#(x^3)-3(x^2)+3x-1\n",
        "plt.plot(x,y3, color = \"orange\")#(x^3)-(x^2)+x-1\n",
        "plt.plot(x,y4, color = \"green\")#(x^3)+3(x^2)-4\n",
        "plt.show()"
      ],
      "metadata": {
        "id": "2etHLiNplRC_",
        "colab": {
          "base_uri": "https://localhost:8080/",
          "height": 430
        },
        "outputId": "5b5e4e70-e721-4a36-f0bc-d771a0e981d3"
      },
      "execution_count": null,
      "outputs": [
        {
          "output_type": "display_data",
          "data": {
            "text/plain": [
              "<Figure size 640x480 with 1 Axes>"
            ],
            "image/png": "[encoded data removed]"
          },
          "metadata": {}
        }
      ]
    },
    {
      "cell_type": "markdown",
      "source": [
        "## General Cubic Formula\n",
        "\n",
        "Dado:\n",
        "$$Δ_0 = b^2 - 3c$$\n",
        "$$Δ_1 = 2b^3 - 9bc + 27d$$\n",
        "\n",
        "y\n",
        "\n",
        "$$\n",
        "C = \\sqrt[3]{\\frac{\\Delta_1 \\pm \\sqrt{{\\Delta_1^2 - 4\\Delta_0^3}}}{2}}\n",
        "$$\n",
        "\n",
        "if $C = 0$, then take the other option for $\\pm$\n",
        "\n",
        "then:\n",
        "\n",
        "$$x_k = -\\frac{1}{3a}\\left(b + ϵ^kC+\\frac{\\Delta_0}{\\epsilon^kC}\\right), k \\in \\{0,1,2\\} $$\n",
        "\n",
        "where $\\epsilon = \\frac{-1 + \\sqrt{-3}}{2}$\n",
        "\n",
        "also, if $\\Delta_0 = \\Delta_1 = 0$ then:\n",
        "\n",
        "$$x = \\frac{-b}{3a}$$\n",
        "\n",
        "for the three roots"
      ],
      "metadata": {
        "id": "63ruNgyO6bGi"
      }
    },
    {
      "cell_type": "code",
      "execution_count": null,
      "metadata": {
        "id": "o99NfjpaiThf"
      },
      "outputs": [],
      "source": [
        "import cmath\n",
        "def solve_cubic(b, c, d):\n",
        "    \"\"\"Solve a cubic equation, x**3 + bx**2 + c*x +d = 0.\n",
        "\n",
        "    Parameters\n",
        "    ----------\n",
        "    b, c,d : float\n",
        "       Coefficients\n",
        "\n",
        "    Returns\n",
        "    -------\n",
        "    x1, x2,x3 : float or complex\n",
        "       Roots.  \"\"\"\n",
        "\n",
        "    # ... enter your code here ...\n",
        "\n",
        "    d_0 = b**2 - 3*c\n",
        "    d_1 = 2*b**3 - 9*b*c + 27*d\n",
        "\n",
        "    if d_0 == 0 and d_1 == 0:\n",
        "        x = -b / 3\n",
        "        return x, x, x\n",
        "\n",
        "    C = ((d_1 + cmath.sqrt(d_1**2 - 4*d_0**3)) / 2) ** (1/3)\n",
        "    if C == 0:\n",
        "        # Si C es 0, cambiamos el signo en la fórmula para C\n",
        "        C = ((d_1 - cmath.sqrt(d_1**2 - 4*d_0**3)) / 2) ** (1/3)\n",
        "\n",
        "    ep = (-1 + cmath.sqrt(-3)) / 2\n",
        "    roots = []\n",
        "    for k in range(3):\n",
        "        root = - (1/(3)) * (b + ep**k * C + d_0 / (ep**k * C))\n",
        "        roots.append(root)\n",
        "\n",
        "    return tuple(roots)"
      ]
    },
    {
      "cell_type": "markdown",
      "source": [
        "Bulit test cases that include\n",
        "\n",
        "$$(x-1) \\left( x + \\frac{1}{2} + i \\frac{\\sqrt{3}}{2}\\right) \\left( x + \\frac{1}{2} - i \\frac{\\sqrt{3}}{2}\\right) =   x^3 -1 =  0  $$\n",
        "\n",
        "$$(x-1)^3 = x^3 - 3 x^2 + 3 x - 1 = 0 $$\n",
        "\n",
        "$$(x-1)(x-i)(x+i) = x^3 - x^2 + x - 1 = 0 $$\n",
        "\n",
        "$$ (x+2)^2 (x-1) = x^3 + 3 x^2 - 4 = 0  $$\n",
        "three real diferent roots,  roots in the last digits of the group members, root of mtiuplicity two, and complex roots with small and large $b$.\n"
      ],
      "metadata": {
        "id": "BpvJhj5Zl2lI"
      }
    },
    {
      "cell_type": "code",
      "source": [
        "from numpy import allclose\n",
        "\n",
        "variants = [{'b': 0.0, 'c': 0.0, 'd': -1.0},\n",
        "            {'b': -3.0, 'c': 3.0, 'd':-1.0},\n",
        "            {'b': -1.0, 'c': 1.0, 'd':-1.0},\n",
        "            {'b':  3.0, 'c': 0.0, 'd':-4.0},\n",
        "            {'b':  9.0, 'c': 15.0, 'd':-25},\n",
        "            {'b':  1.0, 'c': 1.0, 'd':-1},\n",
        "            {'b':  5.0, 'c': 3.0, 'd':-9}]\n",
        "\n",
        "for var in variants:\n",
        "    x1, x2, x3= solve_cubic(**var)\n",
        "    print(allclose(cubic(var['b'],var['c'],var['d'],x1), 0.0) and allclose(cubic(var['b'],var['c'],var['d'],x2), 0.0) and  allclose(cubic(var['b'],var['c'],var['d'],x3), 0.0))"
      ],
      "metadata": {
        "id": "8fjriYmkmHOw",
        "colab": {
          "base_uri": "https://localhost:8080/"
        },
        "outputId": "2ee0029d-b396-42be-a7f7-cd05f20241f6"
      },
      "execution_count": null,
      "outputs": [
        {
          "output_type": "stream",
          "name": "stdout",
          "text": [
            "True\n",
            "True\n",
            "True\n",
            "True\n",
            "True\n",
            "True\n",
            "True\n"
          ]
        }
      ]
    },
    {
      "cell_type": "markdown",
      "source": [
        "\n",
        "**Last digits:  5 0 3**"
      ],
      "metadata": {
        "id": "enGvGBLU6NET"
      }
    },
    {
      "cell_type": "code",
      "source": [
        "from numpy import allclose\n",
        "\n",
        "variants = [{'b': 3.0, 'c': 0.0, 'd': 5.0},]\n",
        "\n",
        "for var in variants:\n",
        "    x1, x2, x3= solve_cubic(**var)\n",
        "    print(allclose(cubic(var['b'],var['c'],var['d'],x1), 0.0) and allclose(cubic(var['b'],var['c'],var['d'],x2), 0.0) and  allclose(cubic(var['b'],var['c'],var['d'],x3), 0.0))"
      ],
      "metadata": {
        "id": "KblhhuMa6K8v"
      },
      "execution_count": null,
      "outputs": []
    },
    {
      "cell_type": "markdown",
      "source": [
        " Publish the notebook in as **pperezp_groupN_CubicEquation.ipynb** at **MetNumUN2023II/Lab5** and submit only the code of **solve_cubic(b, c,d)** in UNcode Quiz Cubic Equation."
      ],
      "metadata": {
        "id": "0s01RrfqmE_f"
      }
    }
  ]
}